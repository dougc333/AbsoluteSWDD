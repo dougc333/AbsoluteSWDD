{
  "nbformat": 4,
  "nbformat_minor": 0,
  "metadata": {
    "colab": {
      "provenance": [],
      "gpuType": "T4",
      "authorship_tag": "ABX9TyObqByuhnwzJYWPmZYbAEVw",
      "include_colab_link": true
    },
    "kernelspec": {
      "name": "python3",
      "display_name": "Python 3"
    },
    "language_info": {
      "name": "python"
    },
    "accelerator": "GPU"
  },
  "cells": [
    {
      "cell_type": "markdown",
      "metadata": {
        "id": "view-in-github",
        "colab_type": "text"
      },
      "source": [
        "<a href=\"https://colab.research.google.com/github/dougc333/AbsoluteSWDD/blob/master/flask.ipynb\" target=\"_parent\"><img src=\"https://colab.research.google.com/assets/colab-badge.svg\" alt=\"Open In Colab\"/></a>"
      ]
    },
    {
      "cell_type": "code",
      "execution_count": 10,
      "metadata": {
        "id": "eVPFzxgDAlan",
        "colab": {
          "base_uri": "https://localhost:8080/"
        },
        "outputId": "b3bc352a-a370-4b23-d5b4-ad62882839d7"
      },
      "outputs": [
        {
          "output_type": "stream",
          "name": "stdout",
          "text": [
            "Requirement already satisfied: prometheus-client in /usr/local/lib/python3.11/dist-packages (0.21.1)\n"
          ]
        }
      ],
      "source": [
        "import torch\n",
        "import torch.nn as nn\n",
        "import torch.optim as optim\n",
        "import torchvision\n",
        "import torchvision.transforms as transforms\n",
        "!pip install prometheus-client"
      ]
    },
    {
      "cell_type": "code",
      "source": [
        "\n",
        "\n",
        "!pip install flask-ngrok\n",
        "from flask_ngrok import run_with_ngrok"
      ],
      "metadata": {
        "colab": {
          "base_uri": "https://localhost:8080/"
        },
        "id": "GIWsliNz_m5j",
        "outputId": "5e521ce4-fef1-4b00-b8a3-980c968b7076"
      },
      "execution_count": 27,
      "outputs": [
        {
          "output_type": "stream",
          "name": "stdout",
          "text": [
            "Collecting flask-ngrok\n",
            "  Downloading flask_ngrok-0.0.25-py3-none-any.whl.metadata (1.8 kB)\n",
            "Requirement already satisfied: Flask>=0.8 in /usr/local/lib/python3.11/dist-packages (from flask-ngrok) (3.1.0)\n",
            "Requirement already satisfied: requests in /usr/local/lib/python3.11/dist-packages (from flask-ngrok) (2.32.3)\n",
            "Requirement already satisfied: Werkzeug>=3.1 in /usr/local/lib/python3.11/dist-packages (from Flask>=0.8->flask-ngrok) (3.1.3)\n",
            "Requirement already satisfied: Jinja2>=3.1.2 in /usr/local/lib/python3.11/dist-packages (from Flask>=0.8->flask-ngrok) (3.1.6)\n",
            "Requirement already satisfied: itsdangerous>=2.2 in /usr/local/lib/python3.11/dist-packages (from Flask>=0.8->flask-ngrok) (2.2.0)\n",
            "Requirement already satisfied: click>=8.1.3 in /usr/local/lib/python3.11/dist-packages (from Flask>=0.8->flask-ngrok) (8.1.8)\n",
            "Requirement already satisfied: blinker>=1.9 in /usr/local/lib/python3.11/dist-packages (from Flask>=0.8->flask-ngrok) (1.9.0)\n",
            "Requirement already satisfied: charset-normalizer<4,>=2 in /usr/local/lib/python3.11/dist-packages (from requests->flask-ngrok) (3.4.2)\n",
            "Requirement already satisfied: idna<4,>=2.5 in /usr/local/lib/python3.11/dist-packages (from requests->flask-ngrok) (3.10)\n",
            "Requirement already satisfied: urllib3<3,>=1.21.1 in /usr/local/lib/python3.11/dist-packages (from requests->flask-ngrok) (2.4.0)\n",
            "Requirement already satisfied: certifi>=2017.4.17 in /usr/local/lib/python3.11/dist-packages (from requests->flask-ngrok) (2025.4.26)\n",
            "Requirement already satisfied: MarkupSafe>=2.0 in /usr/local/lib/python3.11/dist-packages (from Jinja2>=3.1.2->Flask>=0.8->flask-ngrok) (3.0.2)\n",
            "Downloading flask_ngrok-0.0.25-py3-none-any.whl (3.1 kB)\n",
            "Installing collected packages: flask-ngrok\n",
            "Successfully installed flask-ngrok-0.0.25\n"
          ]
        }
      ]
    },
    {
      "cell_type": "code",
      "source": [
        "#https://colab.research.google.com/github/srivatsan88/YouTubeLI/blob/master/Running_Flask_in_Colab.ipynb#scrollTo=xk6pqXHXpChi\n",
        "import socket\n",
        "print(socket.gethostbyname(socket.gethostname()))\n",
        "from flask_ngrok import run_with_ngrok"
      ],
      "metadata": {
        "colab": {
          "base_uri": "https://localhost:8080/"
        },
        "id": "_0A2rAch6z4J",
        "outputId": "ad5cdeb1-cb6f-47dc-d633-c5a231e4643b"
      },
      "execution_count": 28,
      "outputs": [
        {
          "output_type": "stream",
          "name": "stdout",
          "text": [
            "172.28.0.12\n"
          ]
        }
      ]
    },
    {
      "cell_type": "code",
      "source": [
        "from flask import Flask, jsonify, make_response, request\n",
        "import threading\n",
        "\n",
        "\n",
        "app = Flask(__name__)\n",
        "\n",
        "@app.route(\"/\")\n",
        "def hello():\n",
        "    return \"I am alive!!!!!!!!!!!!!!!!!!!\"\n",
        "\n",
        "#run_with_ngrok(app)\n",
        "#app.run()\n",
        "#\n",
        "threading.Thread(target=app.run, kwargs={'host':'0.0.0.0','port':6000}).start()"
      ],
      "metadata": {
        "colab": {
          "base_uri": "https://localhost:8080/"
        },
        "id": "yTCGQAX_7TGy",
        "outputId": "9813dbde-a63a-4255-9e0b-e2edc18b87fb"
      },
      "execution_count": 30,
      "outputs": [
        {
          "output_type": "stream",
          "name": "stdout",
          "text": [
            " * Serving Flask app '__main__'\n",
            " * Debug mode: off\n"
          ]
        }
      ]
    },
    {
      "cell_type": "code",
      "source": [
        "from google.colab.output import eval_js\n",
        "print(eval_js(\"google.colab.kernel.proxyPort(5000)\"))"
      ],
      "metadata": {
        "colab": {
          "base_uri": "https://localhost:8080/",
          "height": 35
        },
        "id": "zNkyZ1ZVAanD",
        "outputId": "9eafd637-b430-4653-c540-93f300878a85"
      },
      "execution_count": 32,
      "outputs": [
        {
          "output_type": "stream",
          "name": "stdout",
          "text": [
            "https://5000-gpu-t4-s-1z72eomj6xnaa-a.us-west4-0.prod.colab.dev\n"
          ]
        }
      ]
    },
    {
      "cell_type": "code",
      "source": [
        "import requests\n",
        "res = requests.get(\"http://172.28.0.12:6000/\")\n",
        "print(res.status_code)\n",
        "print(\"res:\",req)\n",
        "print(\"********************************\")\n",
        "print(dir(res))\n",
        "print(f\"res content:{res.content}\")\n",
        "print(res.text) #response is intercepted"
      ],
      "metadata": {
        "colab": {
          "base_uri": "https://localhost:8080/"
        },
        "id": "j2rnEIxz7TJG",
        "outputId": "81e9b224-9196-4352-a89c-2436c7724d78"
      },
      "execution_count": 31,
      "outputs": [
        {
          "output_type": "stream",
          "name": "stdout",
          "text": [
            "200\n",
            "res: <Response [200]>\n",
            "********************************\n",
            "['__attrs__', '__bool__', '__class__', '__delattr__', '__dict__', '__dir__', '__doc__', '__enter__', '__eq__', '__exit__', '__format__', '__ge__', '__getattribute__', '__getstate__', '__gt__', '__hash__', '__init__', '__init_subclass__', '__iter__', '__le__', '__lt__', '__module__', '__ne__', '__new__', '__nonzero__', '__reduce__', '__reduce_ex__', '__repr__', '__setattr__', '__setstate__', '__sizeof__', '__str__', '__subclasshook__', '__weakref__', '_content', '_content_consumed', '_next', 'apparent_encoding', 'close', 'connection', 'content', 'cookies', 'elapsed', 'encoding', 'headers', 'history', 'is_permanent_redirect', 'is_redirect', 'iter_content', 'iter_lines', 'json', 'links', 'next', 'ok', 'raise_for_status', 'raw', 'reason', 'request', 'status_code', 'text', 'url']\n",
            "res content:b'<!DOCTYPE HTML>\\n<html>\\n\\n<head>\\n    <meta charset=\"utf-8\">\\n\\n    <title>Home Page - Select or create a notebook</title>\\n    <link id=\"favicon\" rel=\"shortcut icon\" type=\"image/x-icon\" href=\"/static/base/images/favicon.ico?v=50afa725b5de8b00030139d09b38620224d4e7dba47c07ef0e86d4643f30c9bfe6bb7e1a4a1c561aa32834480909a4b6fe7cd1e17f7159330b6b5914bf45a880\">\\n    <meta http-equiv=\"X-UA-Compatible\" content=\"IE=edge\" />\\n    <link rel=\"stylesheet\" href=\"/static/components/jquery-ui/dist/themes/smoothness/jquery-ui.min.css?v=aeef962be7038761e5174f91e2da776c640f789e9802621178606b759506b273d9a97f189a9262b19ac5b511f70a662d8c5e2bf2fb258ae11c3c2ee1e07c6abd\" type=\"text/css\" />\\n    <link rel=\"stylesheet\" href=\"/static/components/jquery-typeahead/dist/jquery.typeahead.min.css?v=50abc9f0658dec7488e352b71947dc2489e08553a12a2ff0d292cd57fe65625b8b5b52193ee5eed003421626dd7e9e52018d822f4719b7ab98a2cf18aaf575ff\" type=\"text/css\" />\\n    <meta name=\"viewport\" content=\"width=device-width, initial-scale=1.0\">\\n    \\n    \\n    <link rel=\"stylesheet\" href=\"/static/style/style.min.css?v=ab20bf23735ed95633181baa473ff63bf281ceae470407c656e482a618d77c9e951a8c0ada6f3b3d02d054a481fb35aad852781d72a2fc5dd0bb174f0cf27381\" type=\"text/css\"/>\\n    \\n    <link rel=\"stylesheet\" href=\"/custom/custom.css\" type=\"text/css\" />\\n    <script src=\"/static/components/es6-promise/promise.min.js?v=bea335d74136a63ae1b5130f5ac9a50c6256a5f435e6e09fef599491a84d834a8b0f011ca3eaaca3b4ab6a2da2d3e1191567a2f171e60da1d10e5b9d52f84184\" type=\"text/javascript\" charset=\"utf-8\"></script>\\n    <script src=\"/static/components/react/react.production.min.js?v=9a0aaf84a316c8bedd6c2ff7d5b5e0a13f8f84ec02442346cba0b842c6c81a6bf6176e64f3675c2ebf357cb5bb048e0b527bd39377c95681d22468da3d5de735\" type=\"text/javascript\"></script>\\n    <script src=\"/static/components/react/react-dom.production.min.js?v=6fc58c1c4736868ff84f57bd8b85f2bdb985993a9392718f3b4af4bfa10fb4efba2b4ddd68644bd2a8daf0619a3844944c9c43f8528364a1aa6fc01ec1b8ae84\" type=\"text/javascript\"></script>\\n    <script src=\"/static/components/create-react-class/index.js?v=894ad57246e682b4cfbe7cd5e408dcd6b38d06af4de4f3425991e2676fdc2ef1732cbd19903104198878ae77de12a1996de3e7da3a467fb226bdda8f4618faec\" type=\"text/javascript\"></script>\\n    <script src=\"/static/components/requirejs/require.js?v=d37b48bb2137faa0ab98157e240c084dd5b1b5e74911723aa1d1f04c928c2a03dedf922d049e4815f7e5a369faa2e6b6a1000aae958b7953b5cc60411154f593\" type=\"text/javascript\" charset=\"utf-8\"></script>\\n    <script>\\n      require.config({\\n          \\n          urlArgs: \"v=20250513180854\",\\n          \\n          baseUrl: \\'/static/\\',\\n          paths: {\\n            \\'auth/js/main\\': \\'auth/js/main.min\\',\\n            custom : \\'/custom\\',\\n            nbextensions : \\'/nbextensions\\',\\n            kernelspecs : \\'/kernelspecs\\',\\n            underscore : \\'components/underscore/underscore-min\\',\\n            backbone : \\'components/backbone/backbone-min\\',\\n            jed: \\'components/jed/jed\\',\\n            jquery: \\'components/jquery/jquery.min\\',\\n            json: \\'components/requirejs-plugins/src/json\\',\\n            text: \\'components/requirejs-text/text\\',\\n            bootstrap: \\'components/bootstrap/dist/js/bootstrap.min\\',\\n            bootstraptour: \\'components/bootstrap-tour/build/js/bootstrap-tour.min\\',\\n            \\'jquery-ui\\': \\'components/jquery-ui/dist/jquery-ui.min\\',\\n            moment: \\'components/moment/min/moment-with-locales\\',\\n            codemirror: \\'components/codemirror\\',\\n            termjs: \\'components/xterm.js/xterm\\',\\n            typeahead: \\'components/jquery-typeahead/dist/jquery.typeahead.min\\',\\n          },\\n          map: { // for backward compatibility\\n              \"*\": {\\n                  \"jqueryui\": \"jquery-ui\",\\n              }\\n          },\\n          shim: {\\n            typeahead: {\\n              deps: [\"jquery\"],\\n              exports: \"typeahead\"\\n            },\\n            underscore: {\\n              exports: \\'_\\'\\n            },\\n            backbone: {\\n              deps: [\"underscore\", \"jquery\"],\\n              exports: \"Backbone\"\\n            },\\n            bootstrap: {\\n              deps: [\"jquery\"],\\n              exports: \"bootstrap\"\\n            },\\n            bootstraptour: {\\n              deps: [\"bootstrap\"],\\n              exports: \"Tour\"\\n            },\\n            \"jquery-ui\": {\\n              deps: [\"jquery\"],\\n              exports: \"$\"\\n            }\\n          },\\n          waitSeconds: 30,\\n      });\\n\\n      require.config({\\n          map: {\\n              \\'*\\':{\\n                \\'contents\\': \\'services/contents\\',\\n              }\\n          }\\n      });\\n\\n      // error-catching custom.js shim.\\n      define(\"custom\", function (require, exports, module) {\\n          try {\\n              var custom = require(\\'custom/custom\\');\\n              console.debug(\\'loaded custom.js\\');\\n              return custom;\\n          } catch (e) {\\n              console.error(\"error loading custom.js\", e);\\n              return {};\\n          }\\n      })\\n\\n      // error-catching custom-preload.js shim.\\n      define(\"custom-preload\", function (require, exports, module) {\\n          try {\\n              var custom = require(\\'custom/custom-preload\\');\\n              console.debug(\\'loaded custom-preload.js\\');\\n              return custom;\\n          } catch (e) {\\n              console.error(\"error loading custom-preload.js\", e);\\n              return {};\\n          }\\n      })\\n\\n    document.nbjs_translations = {\"domain\": \"nbjs\", \"locale_data\": {\"nbjs\": {\"\": {\"domain\": \"nbjs\"}}}};\\n    document.documentElement.lang = navigator.language.toLowerCase();\\n    </script>\\n\\n    \\n    \\n\\n</head>\\n\\n<body class=\"\"\\n \\n\\n  \\n \\ndata-base-url=\"/\"\\ndata-notebook-path=\"\"\\ndata-terminals-available=\"True\"\\ndata-server-root=\"/\"\\n\\ndir=\"ltr\">\\n\\n<noscript>\\n    <div id=\\'noscript\\'>\\n      Jupyter Notebook requires JavaScript.<br>\\n      Please enable it to proceed. \\n  </div>\\n</noscript>\\n\\n<div id=\"header\" role=\"navigation\" aria-label=\"Top Menu\">\\n  <div  id=\"newsId\" style=\"display: none\">\\n    \\n    <div class=\"alert alert-info\" role=\"alert\">\\n      <div style=\"display: flex\">\\n        <div>\\n          <span class=\"label label-warning\">UPDATE</span>\\n          Read <a href=\"https://jupyter-notebook.readthedocs.io/en/latest/migrate_to_notebook7.html\" style=\"text-decoration: underline;\" target=\"_blank\">the migration plan</a> to Notebook 7 to learn about the new features and the actions to take if you are using extensions\\n          -\\n          Please note that updating to Notebook 7 might break some of your extensions.\\n        </div>\\n        <div style=\"margin-left: auto;\">\\n          <a href=\"\" onclick=\"alert(\\'This message will not be shown anymore.\\'); return false;\">\\n            <button type=\"button\" class=\"btn btn-default btn-xs\" id=\"dontShowId\">\\n              Don\\'t show anymore\\n            </button>\\n          </a>\\n        </div>\\n      </div>\\n    </div>\\n    \\n  </div>\\n  <div id=\"header-container\" class=\"container\">\\n  <div id=\"ipython_notebook\" class=\"nav navbar-brand\"><a href=\"/tree\" title=\\'dashboard\\'>\\n      <img src=\\'/static/base/images/logo.png?v=a2a176ee3cee251ffddf5fa21fe8e43727a9e5f87a06f9c91ad7b776d9e9d3d5e0159c16cc188a3965e00375fb4bc336c16067c688f5040c0c2d4bfdb852a9e4\\' alt=\\'Jupyter Notebook\\'/>\\n  </a></div>\\n\\n  \\n  <span class=\"flex-spacer\"></span>\\n  \\n  \\n  \\n    <span id=\"shutdown_widget\">\\n      <button id=\"shutdown\" class=\"btn btn-sm navbar-btn\"\\n              title=\"Stop the Jupyter server\">\\n          Quit\\n      </button>\\n    </span>\\n  \\n\\n  \\n  \\n  \\n  \\n\\n    <span id=\"login_widget\">\\n      \\n    </span>\\n\\n  \\n\\n  \\n  \\n  </div>\\n  <div class=\"header-bar\"></div>\\n\\n  \\n  \\n</div>\\n\\n<div id=\"site\">\\n\\n\\n  <div id=\"ipython-main-app\" class=\"container\">\\n    <div id=\"tab_content\" class=\"tabbable\" role=\"main\">\\n      <ul id=\"tabs\" class=\"nav nav-tabs\">\\n        <li class=\"active\"><a href=\"#notebooks\" data-toggle=\"tab\">Files</a></li>\\n        <li><a href=\"#running\" data-toggle=\"tab\">Running</a></li>\\n        <li><a href=\"#clusters\" data-toggle=\"tab\" class=\"clusters_tab_link\" >Clusters</a></li>\\n      </ul>\\n      <div class=\"tab-content\">\\n        <div id=\"notebooks\" class=\"tab-pane active\">\\n          <div id=\"notebook_toolbar\" class=\"row\">\\n            <div class=\"col-sm-8 no-padding\">\\n              <div class=\"dynamic-instructions\">\\n                Select items to perform actions on them.\\n              </div>\\n              <div class=\"dynamic-buttons\">\\n                  <button  title=\"Duplicate selected\" aria-label=\"Duplicate selected\" class=\"duplicate-button btn btn-default btn-xs\" aria-describedby=\"tooltip1\">Duplicate </button>\\n                  <div role=\"tooltip\" id=\"tooltip1\" >Duplicate selected</div>\\n                  <button title=\"Rename selected\" aria-label=\"Rename selected\" class=\"rename-button btn btn-default btn-xs\" aria-describedby=\"tooltip2\">Rename</button>\\n                  <div role=\"tooltip\" id=\"tooltip2\" >Rename selected</div> \\n                  <button title=\"Move selected\" aria-label=\"Move selected\" class=\"move-button btn btn-default btn-xs\" aria-describedby=\"tooltip3\">Move</button>\\n                  <div role=\"tooltip\" id=\"tooltip3\" >Move selected</div> \\n                  <button title=\"Download selected\" aria-label=\"Download selected\" class=\"download-button btn btn-default btn-xs\" aria-describedby=\"tooltip4\">Download</button>\\n                  <div role=\"tooltip\" id=\"tooltip4\" >Download selected</div>\\n                  <button title=\"Shutdown selected notebook(s)\" aria-label=\"Shutdown selected notebook(s)\" class=\"shutdown-button btn btn-default btn-xs btn-warning\" aria-describedby=\"tooltip5\">Shutdown</button>\\n                  <div role=\"tooltip\" id=\"tooltip5\" >Shutdown selected notebook(s)</div>  \\n                  <button title=\"View selected\" aria-label=\"View selected\" class=\"view-button btn btn-default btn-xs\" aria-describedby=\"tooltip6\">View</button>\\n                  <div role=\"tooltip\" id=\"tooltip6\" >View selected</div> \\n                  <button title=\"Edit selected\" aria-label=\"Edit selected\" class=\"edit-button btn btn-default btn-xs\" aria-describedby=\"tooltip7\">Edit</button>\\n                  <div role=\"tooltip\" id=\"tooltip7\" >Edit selected</div>  \\n                  <button title=\"Delete selected\" aria-label=\"Delete selected\" class=\"delete-button btn btn-default btn-xs btn-danger\" aria-describedby=\"tooltip8\">\\n                    <i class=\"fa fa-trash\"></i>\\n                  </button>\\n                  <div role=\"tooltip\" id=\"tooltip8\" >Delete selected</div>\\n              </div>\\n            </div>\\n            <div class=\"col-sm-4 no-padding tree-buttons\">\\n              <div class=\"pull-right\">\\n                <form id=\\'alternate_upload\\'  class=\\'alternate_upload\\'>\\n                  <span id=\"notebook_list_info\">\\n                  <span id=\"upload_span\" class=\"btn btn-xs btn-default btn-upload\" role=\"button\" tabindex=\"0\">\\n                    <input id=\"upload_span_input\" title=\"Click to browse for a file to upload.\" type=\"file\" name=\"datafile\" class=\"fileinput\" multiple=\\'multiple\\' tabindex=\"-1\">\\n                    Upload\\n                  </span>\\n                  </span>\\n                </form>\\n                <div id=\"new-buttons\" class=\"btn-group\">\\n                  <button class=\"dropdown-toggle btn btn-default btn-xs\" id=\"new-dropdown-button\" data-toggle=\"dropdown\">\\n                  <span>New</span>\\n                  <span class=\"caret\"></span>\\n                  <span class=\"sr-only\">Toggle Dropdown</span>\\n                  </button>\\n                  <ul id=\"new-menu\" class=\"dropdown-menu\" role=\"menu\">\\n                    <li role=\"menuitem\" class=\"dropdown-header\" id=\"notebook-kernels\">Notebook:</li>\\n                    <li role=\"presentation\" class=\"divider\"></li>\\n                    <li role=\"menuitem\" class=\"dropdown-header\" >Other:</li>\\n                    <li role=\"none\" id=\"new-file\">\\n                        <a role=\"menuitem\" tabindex=\"-1\" href=\"#\">Text File</a>\\n                    </li>\\n                    <li role=\"none\" id=\"new-folder\">\\n                        <a role=\"menuitem\" tabindex=\"-1\" href=\"#\">Folder</a>\\n                    </li>\\n                    \\n                    <li role=\"none\" id=\"new-terminal\">\\n                        <a role=\"menuitem\" tabindex=\"-1\" href=\"#\">Terminal</a>\\n                    </li>\\n                    \\n                  </ul>\\n                </div>\\n                <div class=\"btn-group\">\\n                    <button id=\"refresh_notebook_list\" title=\"Refresh notebook list\"  aria-label=\"Refresh notebook list\" class=\"btn btn-default btn-xs\"><i class=\"fa fa-refresh\"></i></button>\\n                </div>\\n              </div>\\n            </div>\\n          </div>\\n          <div id=\"notebook_list\">\\n            <div id=\"notebook_list_header\" class=\"row list_header\">\\n              <div class=\"btn-group dropdown\" id=\"tree-selector\">\\n                <button title=\"Select All / None\" aria-label=\"Select All / None\" type=\"button\" class=\"btn btn-default btn-xs\" id=\"button-select-all\" role=\"checkbox\">\\n                  <input type=\"checkbox\" class=\"pull-left tree-selector\" id=\"select-all\" tabindex=\"-1\"><span id=\"counter-select-all\">&nbsp;</span></input>\\n                </button>\\n                <button title=\"Select Folders/All Notebooks/Running/Files\" class=\"btn btn-default btn-xs dropdown-toggle\" type=\"button\" id=\"tree-selector-btn\" data-toggle=\"dropdown\" aria-expanded=\"true\">\\n                  <span class=\"sr-only\">checkbox</span>\\n                  <span class=\"caret\"></span>\\n                  <span class=\"sr-only\">Toggle Dropdown</span>\\n                </button>\\n                <ul id=\\'selector-menu\\' class=\"dropdown-menu\" role=\"menu\" aria-labelledby=\"tree-selector-btn\">\\n                  <li role=\"none\"><a id=\"select-folders\" role=\"menuitem\" tabindex=\"-1\" href=\"#\" title=\"Select All Folders\"><i class=\"menu_icon folder_icon icon-fixed-width\"></i>&nbsp;Folders</a></li>\\n                  <li role=\"none\"><a id=\"select-notebooks\" role=\"menuitem\" tabindex=\"-1\" href=\"#\" title=\"Select All Notebooks\"><i class=\"menu_icon notebook_icon icon-fixed-width\"></i>&nbsp;All Notebooks</a></li>\\n                  <li role=\"none\"><a id=\"select-running-notebooks\" role=\"menuitem\" tabindex=\"-1\" href=\"#\" title=\"Select Running Notebooks\"><i class=\"menu_icon running_notebook_icon icon-fixed-width\"></i>&nbsp;Running</a></li>\\n                  <li role=\"none\"><a id=\"select-files\" role=\"menuitem\" tabindex=\"-1\" href=\"#\" title=\"Select All Files\"><i class=\"menu_icon file_icon icon-fixed-width\"></i>&nbsp;Files</a></li>\\n                </ul>\\n              </div>\\n              <div id=\"project_name\">\\n                <ul class=\"breadcrumb\">\\n                  <li><a href=\"/tree\"><i class=\"fa fa-folder\" alt=\"folder icon\"></i></a></li>\\n                \\n                </ul>\\n              </div>\\n              <div id=\"sort_buttons\" class=\"pull-right\">\\n                <div id=\"sort_name\" class=\"sort_button\">\\n                  <button type=\"button\" class=\"btn btn-xs btn-default sort-action\" id=\"sort-name\" aria-label=\"Sort by name\">\\n                        Name\\n                        <i class=\"fa fa-arrow-down\"></i>\\n                  </button>\\n                </div>\\n                <div id=\"last_modified\" class=\"sort_button\">\\n                    <button type=\"button\" class=\"btn btn-xs btn-default sort-action\" id=\"last-modified\" aria-label=\"Sort by last modified\">\\n                        Last Modified\\n                        <i class=\"fa\"></i>\\n                    </button>\\n                </div>\\n                <div id=\"file_size\" class=\"sort_button\">\\n                    <button type=\"button\" class=\"btn btn-xs btn-default sort-action\" id=\"file-size\" aria-label=\"Sort by file size\">\\n                        File size\\n                        <i class=\"fa\"></i>\\n                    </button>\\n                </div>\\n              </div>\\n            </div>\\n          </div>\\n        </div>\\n        <div id=\"running\" class=\"tab-pane\">\\n          <div id=\"running_toolbar\" class=\"row\">\\n            <div class=\"col-sm-8 no-padding\">\\n              <span id=\"running_list_info\">Currently running Jupyter processes</span>\\n            </div>\\n            <div class=\"col-sm-4 no-padding tree-buttons\">\\n              <span id=\"running_buttons\" class=\"pull-right\">\\n              <button id=\"refresh_running_list\" title=\"Refresh running list\" aria-label=\"Refresh running list\" class=\"btn btn-default btn-xs\"><i class=\"fa fa-refresh\"></i></button>\\n              </span>\\n            </div>\\n          </div>\\n          <div class=\"panel-group\" id=\"accordion\" >\\n            <div class=\"panel panel-default\">\\n              <div class=\"panel-heading\">\\n                <a data-toggle=\"collapse\" data-target=\"#collapseOne\" href=\"#\">\\n                  Terminals\\n                </a>\\n              </div>\\n              <div id=\"collapseOne\" class=\" collapse in\">\\n                <div class=\"panel-body\">\\n                  <div id=\"terminal_list\">\\n                    <div id=\"terminal_list_header\" class=\"row list_placeholder\">\\n                    \\n                      <div> There are no terminals running. </div>\\n                    \\n                    </div>\\n                  </div>\\n                </div>\\n              </div>\\n            </div>\\n            <div class=\"panel panel-default\">\\n              <div class=\"panel-heading\">\\n                <a data-toggle=\"collapse\" data-target=\"#collapseTwo\" href=\"#\">\\n                  Notebooks\\n                </a>\\n              </div>\\n              <div id=\"collapseTwo\" class=\" collapse in\">\\n                <div class=\"panel-body\">\\n                  <div id=\"running_list\">\\n                    <div id=\"running_list_placeholder\" class=\"row list_placeholder\">\\n                      <div> There are no notebooks running. </div>\\n                    </div>\\n                  </div>\\n                </div>\\n              </div>\\n            </div>\\n          </div>\\n        </div>\\n        <div id=\"clusters\" class=\"tab-pane\">\\n          Clusters tab is now provided by IPython parallel.\\n          See \\'<a href=\"https://github.com/ipython/ipyparallel\">IPython parallel</a>\\' for installation details.\\n        </div>\\n      </div><!-- class:tab-content -->\\n    </div><!-- id:tab_content -->\\n  </div><!-- ipython-main-app  -->\\n\\n\\n</div>\\n\\n\\n\\n\\n\\n    \\n\\n    <script src=\"/static/tree/js/main.min.js?v=09e540637c96e15ebcdffd48815a4cd059ddc9a31aa3a95220af4906ae48acbece4ea144aaa8702b0aa8aa466a412b3c8bf20e015bef2cd11b1054681c106f28\" type=\"text/javascript\" charset=\"utf-8\"></script>\\n\\n    <script type=\"text/javascript\">\\n      $(\\'#element\\').tooltip(\\'enable\\')\\n    </script>\\n\\n\\n<script type=\\'text/javascript\\'>\\n  function _remove_token_from_url() {\\n    if (window.location.search.length <= 1) {\\n      return;\\n    }\\n    var search_parameters = window.location.search.slice(1).split(\\'&\\');\\n    for (var i = 0; i < search_parameters.length; i++) {\\n      if (search_parameters[i].split(\\'=\\')[0] === \\'token\\') {\\n        // remote token from search parameters\\n        search_parameters.splice(i, 1);\\n        var new_search = \\'\\';\\n        if (search_parameters.length) {\\n          new_search = \\'?\\' + search_parameters.join(\\'&\\');\\n        }\\n        var new_url = window.location.origin + \\n                      window.location.pathname + \\n                      new_search + \\n                      window.location.hash;\\n        window.history.replaceState({}, \"\", new_url);\\n        return;\\n      }\\n    }\\n  }\\n  _remove_token_from_url();\\n  sys_info = {\"notebook_version\": \"6.5.7\", \"notebook_path\": \"/usr/local/lib/python3.11/dist-packages/notebook\", \"commit_source\": \"\", \"commit_hash\": \"\", \"sys_version\": \"3.11.12 (main, Apr  9 2025, 08:55:54) [GCC 11.4.0]\", \"sys_executable\": \"/usr/bin/python3\", \"sys_platform\": \"linux\", \"platform\": \"Linux-6.1.123+-x86_64-with-glibc2.35\", \"os_name\": \"posix\", \"default_encoding\": \"utf-8\"};\\n  document.addEventListener(\\'DOMContentLoaded\\', function () {\\n    const newsId = document.querySelector(\\'#newsId\\');\\n    const dontShowId = document.querySelector(\\'#dontShowId\\');\\n    const showNotebookNews = localStorage.getItem(\\'showNotebookNews\\');\\n    dontShowId.addEventListener(\\'click\\', () => {\\n      localStorage.setItem(\\'showNotebookNews\\', false);\\n      newsId.style.display = \\'none\\';\\n    });\\n    if (!showNotebookNews) newsId.style.display = \\'inline\\';\\n  });\\n</script>\\n</body>\\n\\n</html>'\n",
            "<!DOCTYPE HTML>\n",
            "<html>\n",
            "\n",
            "<head>\n",
            "    <meta charset=\"utf-8\">\n",
            "\n",
            "    <title>Home Page - Select or create a notebook</title>\n",
            "    <link id=\"favicon\" rel=\"shortcut icon\" type=\"image/x-icon\" href=\"/static/base/images/favicon.ico?v=50afa725b5de8b00030139d09b38620224d4e7dba47c07ef0e86d4643f30c9bfe6bb7e1a4a1c561aa32834480909a4b6fe7cd1e17f7159330b6b5914bf45a880\">\n",
            "    <meta http-equiv=\"X-UA-Compatible\" content=\"IE=edge\" />\n",
            "    <link rel=\"stylesheet\" href=\"/static/components/jquery-ui/dist/themes/smoothness/jquery-ui.min.css?v=aeef962be7038761e5174f91e2da776c640f789e9802621178606b759506b273d9a97f189a9262b19ac5b511f70a662d8c5e2bf2fb258ae11c3c2ee1e07c6abd\" type=\"text/css\" />\n",
            "    <link rel=\"stylesheet\" href=\"/static/components/jquery-typeahead/dist/jquery.typeahead.min.css?v=50abc9f0658dec7488e352b71947dc2489e08553a12a2ff0d292cd57fe65625b8b5b52193ee5eed003421626dd7e9e52018d822f4719b7ab98a2cf18aaf575ff\" type=\"text/css\" />\n",
            "    <meta name=\"viewport\" content=\"width=device-width, initial-scale=1.0\">\n",
            "    \n",
            "    \n",
            "    <link rel=\"stylesheet\" href=\"/static/style/style.min.css?v=ab20bf23735ed95633181baa473ff63bf281ceae470407c656e482a618d77c9e951a8c0ada6f3b3d02d054a481fb35aad852781d72a2fc5dd0bb174f0cf27381\" type=\"text/css\"/>\n",
            "    \n",
            "    <link rel=\"stylesheet\" href=\"/custom/custom.css\" type=\"text/css\" />\n",
            "    <script src=\"/static/components/es6-promise/promise.min.js?v=bea335d74136a63ae1b5130f5ac9a50c6256a5f435e6e09fef599491a84d834a8b0f011ca3eaaca3b4ab6a2da2d3e1191567a2f171e60da1d10e5b9d52f84184\" type=\"text/javascript\" charset=\"utf-8\"></script>\n",
            "    <script src=\"/static/components/react/react.production.min.js?v=9a0aaf84a316c8bedd6c2ff7d5b5e0a13f8f84ec02442346cba0b842c6c81a6bf6176e64f3675c2ebf357cb5bb048e0b527bd39377c95681d22468da3d5de735\" type=\"text/javascript\"></script>\n",
            "    <script src=\"/static/components/react/react-dom.production.min.js?v=6fc58c1c4736868ff84f57bd8b85f2bdb985993a9392718f3b4af4bfa10fb4efba2b4ddd68644bd2a8daf0619a3844944c9c43f8528364a1aa6fc01ec1b8ae84\" type=\"text/javascript\"></script>\n",
            "    <script src=\"/static/components/create-react-class/index.js?v=894ad57246e682b4cfbe7cd5e408dcd6b38d06af4de4f3425991e2676fdc2ef1732cbd19903104198878ae77de12a1996de3e7da3a467fb226bdda8f4618faec\" type=\"text/javascript\"></script>\n",
            "    <script src=\"/static/components/requirejs/require.js?v=d37b48bb2137faa0ab98157e240c084dd5b1b5e74911723aa1d1f04c928c2a03dedf922d049e4815f7e5a369faa2e6b6a1000aae958b7953b5cc60411154f593\" type=\"text/javascript\" charset=\"utf-8\"></script>\n",
            "    <script>\n",
            "      require.config({\n",
            "          \n",
            "          urlArgs: \"v=20250513180854\",\n",
            "          \n",
            "          baseUrl: '/static/',\n",
            "          paths: {\n",
            "            'auth/js/main': 'auth/js/main.min',\n",
            "            custom : '/custom',\n",
            "            nbextensions : '/nbextensions',\n",
            "            kernelspecs : '/kernelspecs',\n",
            "            underscore : 'components/underscore/underscore-min',\n",
            "            backbone : 'components/backbone/backbone-min',\n",
            "            jed: 'components/jed/jed',\n",
            "            jquery: 'components/jquery/jquery.min',\n",
            "            json: 'components/requirejs-plugins/src/json',\n",
            "            text: 'components/requirejs-text/text',\n",
            "            bootstrap: 'components/bootstrap/dist/js/bootstrap.min',\n",
            "            bootstraptour: 'components/bootstrap-tour/build/js/bootstrap-tour.min',\n",
            "            'jquery-ui': 'components/jquery-ui/dist/jquery-ui.min',\n",
            "            moment: 'components/moment/min/moment-with-locales',\n",
            "            codemirror: 'components/codemirror',\n",
            "            termjs: 'components/xterm.js/xterm',\n",
            "            typeahead: 'components/jquery-typeahead/dist/jquery.typeahead.min',\n",
            "          },\n",
            "          map: { // for backward compatibility\n",
            "              \"*\": {\n",
            "                  \"jqueryui\": \"jquery-ui\",\n",
            "              }\n",
            "          },\n",
            "          shim: {\n",
            "            typeahead: {\n",
            "              deps: [\"jquery\"],\n",
            "              exports: \"typeahead\"\n",
            "            },\n",
            "            underscore: {\n",
            "              exports: '_'\n",
            "            },\n",
            "            backbone: {\n",
            "              deps: [\"underscore\", \"jquery\"],\n",
            "              exports: \"Backbone\"\n",
            "            },\n",
            "            bootstrap: {\n",
            "              deps: [\"jquery\"],\n",
            "              exports: \"bootstrap\"\n",
            "            },\n",
            "            bootstraptour: {\n",
            "              deps: [\"bootstrap\"],\n",
            "              exports: \"Tour\"\n",
            "            },\n",
            "            \"jquery-ui\": {\n",
            "              deps: [\"jquery\"],\n",
            "              exports: \"$\"\n",
            "            }\n",
            "          },\n",
            "          waitSeconds: 30,\n",
            "      });\n",
            "\n",
            "      require.config({\n",
            "          map: {\n",
            "              '*':{\n",
            "                'contents': 'services/contents',\n",
            "              }\n",
            "          }\n",
            "      });\n",
            "\n",
            "      // error-catching custom.js shim.\n",
            "      define(\"custom\", function (require, exports, module) {\n",
            "          try {\n",
            "              var custom = require('custom/custom');\n",
            "              console.debug('loaded custom.js');\n",
            "              return custom;\n",
            "          } catch (e) {\n",
            "              console.error(\"error loading custom.js\", e);\n",
            "              return {};\n",
            "          }\n",
            "      })\n",
            "\n",
            "      // error-catching custom-preload.js shim.\n",
            "      define(\"custom-preload\", function (require, exports, module) {\n",
            "          try {\n",
            "              var custom = require('custom/custom-preload');\n",
            "              console.debug('loaded custom-preload.js');\n",
            "              return custom;\n",
            "          } catch (e) {\n",
            "              console.error(\"error loading custom-preload.js\", e);\n",
            "              return {};\n",
            "          }\n",
            "      })\n",
            "\n",
            "    document.nbjs_translations = {\"domain\": \"nbjs\", \"locale_data\": {\"nbjs\": {\"\": {\"domain\": \"nbjs\"}}}};\n",
            "    document.documentElement.lang = navigator.language.toLowerCase();\n",
            "    </script>\n",
            "\n",
            "    \n",
            "    \n",
            "\n",
            "</head>\n",
            "\n",
            "<body class=\"\"\n",
            " \n",
            "\n",
            "  \n",
            " \n",
            "data-base-url=\"/\"\n",
            "data-notebook-path=\"\"\n",
            "data-terminals-available=\"True\"\n",
            "data-server-root=\"/\"\n",
            "\n",
            "dir=\"ltr\">\n",
            "\n",
            "<noscript>\n",
            "    <div id='noscript'>\n",
            "      Jupyter Notebook requires JavaScript.<br>\n",
            "      Please enable it to proceed. \n",
            "  </div>\n",
            "</noscript>\n",
            "\n",
            "<div id=\"header\" role=\"navigation\" aria-label=\"Top Menu\">\n",
            "  <div  id=\"newsId\" style=\"display: none\">\n",
            "    \n",
            "    <div class=\"alert alert-info\" role=\"alert\">\n",
            "      <div style=\"display: flex\">\n",
            "        <div>\n",
            "          <span class=\"label label-warning\">UPDATE</span>\n",
            "          Read <a href=\"https://jupyter-notebook.readthedocs.io/en/latest/migrate_to_notebook7.html\" style=\"text-decoration: underline;\" target=\"_blank\">the migration plan</a> to Notebook 7 to learn about the new features and the actions to take if you are using extensions\n",
            "          -\n",
            "          Please note that updating to Notebook 7 might break some of your extensions.\n",
            "        </div>\n",
            "        <div style=\"margin-left: auto;\">\n",
            "          <a href=\"\" onclick=\"alert('This message will not be shown anymore.'); return false;\">\n",
            "            <button type=\"button\" class=\"btn btn-default btn-xs\" id=\"dontShowId\">\n",
            "              Don't show anymore\n",
            "            </button>\n",
            "          </a>\n",
            "        </div>\n",
            "      </div>\n",
            "    </div>\n",
            "    \n",
            "  </div>\n",
            "  <div id=\"header-container\" class=\"container\">\n",
            "  <div id=\"ipython_notebook\" class=\"nav navbar-brand\"><a href=\"/tree\" title='dashboard'>\n",
            "      <img src='/static/base/images/logo.png?v=a2a176ee3cee251ffddf5fa21fe8e43727a9e5f87a06f9c91ad7b776d9e9d3d5e0159c16cc188a3965e00375fb4bc336c16067c688f5040c0c2d4bfdb852a9e4' alt='Jupyter Notebook'/>\n",
            "  </a></div>\n",
            "\n",
            "  \n",
            "  <span class=\"flex-spacer\"></span>\n",
            "  \n",
            "  \n",
            "  \n",
            "    <span id=\"shutdown_widget\">\n",
            "      <button id=\"shutdown\" class=\"btn btn-sm navbar-btn\"\n",
            "              title=\"Stop the Jupyter server\">\n",
            "          Quit\n",
            "      </button>\n",
            "    </span>\n",
            "  \n",
            "\n",
            "  \n",
            "  \n",
            "  \n",
            "  \n",
            "\n",
            "    <span id=\"login_widget\">\n",
            "      \n",
            "    </span>\n",
            "\n",
            "  \n",
            "\n",
            "  \n",
            "  \n",
            "  </div>\n",
            "  <div class=\"header-bar\"></div>\n",
            "\n",
            "  \n",
            "  \n",
            "</div>\n",
            "\n",
            "<div id=\"site\">\n",
            "\n",
            "\n",
            "  <div id=\"ipython-main-app\" class=\"container\">\n",
            "    <div id=\"tab_content\" class=\"tabbable\" role=\"main\">\n",
            "      <ul id=\"tabs\" class=\"nav nav-tabs\">\n",
            "        <li class=\"active\"><a href=\"#notebooks\" data-toggle=\"tab\">Files</a></li>\n",
            "        <li><a href=\"#running\" data-toggle=\"tab\">Running</a></li>\n",
            "        <li><a href=\"#clusters\" data-toggle=\"tab\" class=\"clusters_tab_link\" >Clusters</a></li>\n",
            "      </ul>\n",
            "      <div class=\"tab-content\">\n",
            "        <div id=\"notebooks\" class=\"tab-pane active\">\n",
            "          <div id=\"notebook_toolbar\" class=\"row\">\n",
            "            <div class=\"col-sm-8 no-padding\">\n",
            "              <div class=\"dynamic-instructions\">\n",
            "                Select items to perform actions on them.\n",
            "              </div>\n",
            "              <div class=\"dynamic-buttons\">\n",
            "                  <button  title=\"Duplicate selected\" aria-label=\"Duplicate selected\" class=\"duplicate-button btn btn-default btn-xs\" aria-describedby=\"tooltip1\">Duplicate </button>\n",
            "                  <div role=\"tooltip\" id=\"tooltip1\" >Duplicate selected</div>\n",
            "                  <button title=\"Rename selected\" aria-label=\"Rename selected\" class=\"rename-button btn btn-default btn-xs\" aria-describedby=\"tooltip2\">Rename</button>\n",
            "                  <div role=\"tooltip\" id=\"tooltip2\" >Rename selected</div> \n",
            "                  <button title=\"Move selected\" aria-label=\"Move selected\" class=\"move-button btn btn-default btn-xs\" aria-describedby=\"tooltip3\">Move</button>\n",
            "                  <div role=\"tooltip\" id=\"tooltip3\" >Move selected</div> \n",
            "                  <button title=\"Download selected\" aria-label=\"Download selected\" class=\"download-button btn btn-default btn-xs\" aria-describedby=\"tooltip4\">Download</button>\n",
            "                  <div role=\"tooltip\" id=\"tooltip4\" >Download selected</div>\n",
            "                  <button title=\"Shutdown selected notebook(s)\" aria-label=\"Shutdown selected notebook(s)\" class=\"shutdown-button btn btn-default btn-xs btn-warning\" aria-describedby=\"tooltip5\">Shutdown</button>\n",
            "                  <div role=\"tooltip\" id=\"tooltip5\" >Shutdown selected notebook(s)</div>  \n",
            "                  <button title=\"View selected\" aria-label=\"View selected\" class=\"view-button btn btn-default btn-xs\" aria-describedby=\"tooltip6\">View</button>\n",
            "                  <div role=\"tooltip\" id=\"tooltip6\" >View selected</div> \n",
            "                  <button title=\"Edit selected\" aria-label=\"Edit selected\" class=\"edit-button btn btn-default btn-xs\" aria-describedby=\"tooltip7\">Edit</button>\n",
            "                  <div role=\"tooltip\" id=\"tooltip7\" >Edit selected</div>  \n",
            "                  <button title=\"Delete selected\" aria-label=\"Delete selected\" class=\"delete-button btn btn-default btn-xs btn-danger\" aria-describedby=\"tooltip8\">\n",
            "                    <i class=\"fa fa-trash\"></i>\n",
            "                  </button>\n",
            "                  <div role=\"tooltip\" id=\"tooltip8\" >Delete selected</div>\n",
            "              </div>\n",
            "            </div>\n",
            "            <div class=\"col-sm-4 no-padding tree-buttons\">\n",
            "              <div class=\"pull-right\">\n",
            "                <form id='alternate_upload'  class='alternate_upload'>\n",
            "                  <span id=\"notebook_list_info\">\n",
            "                  <span id=\"upload_span\" class=\"btn btn-xs btn-default btn-upload\" role=\"button\" tabindex=\"0\">\n",
            "                    <input id=\"upload_span_input\" title=\"Click to browse for a file to upload.\" type=\"file\" name=\"datafile\" class=\"fileinput\" multiple='multiple' tabindex=\"-1\">\n",
            "                    Upload\n",
            "                  </span>\n",
            "                  </span>\n",
            "                </form>\n",
            "                <div id=\"new-buttons\" class=\"btn-group\">\n",
            "                  <button class=\"dropdown-toggle btn btn-default btn-xs\" id=\"new-dropdown-button\" data-toggle=\"dropdown\">\n",
            "                  <span>New</span>\n",
            "                  <span class=\"caret\"></span>\n",
            "                  <span class=\"sr-only\">Toggle Dropdown</span>\n",
            "                  </button>\n",
            "                  <ul id=\"new-menu\" class=\"dropdown-menu\" role=\"menu\">\n",
            "                    <li role=\"menuitem\" class=\"dropdown-header\" id=\"notebook-kernels\">Notebook:</li>\n",
            "                    <li role=\"presentation\" class=\"divider\"></li>\n",
            "                    <li role=\"menuitem\" class=\"dropdown-header\" >Other:</li>\n",
            "                    <li role=\"none\" id=\"new-file\">\n",
            "                        <a role=\"menuitem\" tabindex=\"-1\" href=\"#\">Text File</a>\n",
            "                    </li>\n",
            "                    <li role=\"none\" id=\"new-folder\">\n",
            "                        <a role=\"menuitem\" tabindex=\"-1\" href=\"#\">Folder</a>\n",
            "                    </li>\n",
            "                    \n",
            "                    <li role=\"none\" id=\"new-terminal\">\n",
            "                        <a role=\"menuitem\" tabindex=\"-1\" href=\"#\">Terminal</a>\n",
            "                    </li>\n",
            "                    \n",
            "                  </ul>\n",
            "                </div>\n",
            "                <div class=\"btn-group\">\n",
            "                    <button id=\"refresh_notebook_list\" title=\"Refresh notebook list\"  aria-label=\"Refresh notebook list\" class=\"btn btn-default btn-xs\"><i class=\"fa fa-refresh\"></i></button>\n",
            "                </div>\n",
            "              </div>\n",
            "            </div>\n",
            "          </div>\n",
            "          <div id=\"notebook_list\">\n",
            "            <div id=\"notebook_list_header\" class=\"row list_header\">\n",
            "              <div class=\"btn-group dropdown\" id=\"tree-selector\">\n",
            "                <button title=\"Select All / None\" aria-label=\"Select All / None\" type=\"button\" class=\"btn btn-default btn-xs\" id=\"button-select-all\" role=\"checkbox\">\n",
            "                  <input type=\"checkbox\" class=\"pull-left tree-selector\" id=\"select-all\" tabindex=\"-1\"><span id=\"counter-select-all\">&nbsp;</span></input>\n",
            "                </button>\n",
            "                <button title=\"Select Folders/All Notebooks/Running/Files\" class=\"btn btn-default btn-xs dropdown-toggle\" type=\"button\" id=\"tree-selector-btn\" data-toggle=\"dropdown\" aria-expanded=\"true\">\n",
            "                  <span class=\"sr-only\">checkbox</span>\n",
            "                  <span class=\"caret\"></span>\n",
            "                  <span class=\"sr-only\">Toggle Dropdown</span>\n",
            "                </button>\n",
            "                <ul id='selector-menu' class=\"dropdown-menu\" role=\"menu\" aria-labelledby=\"tree-selector-btn\">\n",
            "                  <li role=\"none\"><a id=\"select-folders\" role=\"menuitem\" tabindex=\"-1\" href=\"#\" title=\"Select All Folders\"><i class=\"menu_icon folder_icon icon-fixed-width\"></i>&nbsp;Folders</a></li>\n",
            "                  <li role=\"none\"><a id=\"select-notebooks\" role=\"menuitem\" tabindex=\"-1\" href=\"#\" title=\"Select All Notebooks\"><i class=\"menu_icon notebook_icon icon-fixed-width\"></i>&nbsp;All Notebooks</a></li>\n",
            "                  <li role=\"none\"><a id=\"select-running-notebooks\" role=\"menuitem\" tabindex=\"-1\" href=\"#\" title=\"Select Running Notebooks\"><i class=\"menu_icon running_notebook_icon icon-fixed-width\"></i>&nbsp;Running</a></li>\n",
            "                  <li role=\"none\"><a id=\"select-files\" role=\"menuitem\" tabindex=\"-1\" href=\"#\" title=\"Select All Files\"><i class=\"menu_icon file_icon icon-fixed-width\"></i>&nbsp;Files</a></li>\n",
            "                </ul>\n",
            "              </div>\n",
            "              <div id=\"project_name\">\n",
            "                <ul class=\"breadcrumb\">\n",
            "                  <li><a href=\"/tree\"><i class=\"fa fa-folder\" alt=\"folder icon\"></i></a></li>\n",
            "                \n",
            "                </ul>\n",
            "              </div>\n",
            "              <div id=\"sort_buttons\" class=\"pull-right\">\n",
            "                <div id=\"sort_name\" class=\"sort_button\">\n",
            "                  <button type=\"button\" class=\"btn btn-xs btn-default sort-action\" id=\"sort-name\" aria-label=\"Sort by name\">\n",
            "                        Name\n",
            "                        <i class=\"fa fa-arrow-down\"></i>\n",
            "                  </button>\n",
            "                </div>\n",
            "                <div id=\"last_modified\" class=\"sort_button\">\n",
            "                    <button type=\"button\" class=\"btn btn-xs btn-default sort-action\" id=\"last-modified\" aria-label=\"Sort by last modified\">\n",
            "                        Last Modified\n",
            "                        <i class=\"fa\"></i>\n",
            "                    </button>\n",
            "                </div>\n",
            "                <div id=\"file_size\" class=\"sort_button\">\n",
            "                    <button type=\"button\" class=\"btn btn-xs btn-default sort-action\" id=\"file-size\" aria-label=\"Sort by file size\">\n",
            "                        File size\n",
            "                        <i class=\"fa\"></i>\n",
            "                    </button>\n",
            "                </div>\n",
            "              </div>\n",
            "            </div>\n",
            "          </div>\n",
            "        </div>\n",
            "        <div id=\"running\" class=\"tab-pane\">\n",
            "          <div id=\"running_toolbar\" class=\"row\">\n",
            "            <div class=\"col-sm-8 no-padding\">\n",
            "              <span id=\"running_list_info\">Currently running Jupyter processes</span>\n",
            "            </div>\n",
            "            <div class=\"col-sm-4 no-padding tree-buttons\">\n",
            "              <span id=\"running_buttons\" class=\"pull-right\">\n",
            "              <button id=\"refresh_running_list\" title=\"Refresh running list\" aria-label=\"Refresh running list\" class=\"btn btn-default btn-xs\"><i class=\"fa fa-refresh\"></i></button>\n",
            "              </span>\n",
            "            </div>\n",
            "          </div>\n",
            "          <div class=\"panel-group\" id=\"accordion\" >\n",
            "            <div class=\"panel panel-default\">\n",
            "              <div class=\"panel-heading\">\n",
            "                <a data-toggle=\"collapse\" data-target=\"#collapseOne\" href=\"#\">\n",
            "                  Terminals\n",
            "                </a>\n",
            "              </div>\n",
            "              <div id=\"collapseOne\" class=\" collapse in\">\n",
            "                <div class=\"panel-body\">\n",
            "                  <div id=\"terminal_list\">\n",
            "                    <div id=\"terminal_list_header\" class=\"row list_placeholder\">\n",
            "                    \n",
            "                      <div> There are no terminals running. </div>\n",
            "                    \n",
            "                    </div>\n",
            "                  </div>\n",
            "                </div>\n",
            "              </div>\n",
            "            </div>\n",
            "            <div class=\"panel panel-default\">\n",
            "              <div class=\"panel-heading\">\n",
            "                <a data-toggle=\"collapse\" data-target=\"#collapseTwo\" href=\"#\">\n",
            "                  Notebooks\n",
            "                </a>\n",
            "              </div>\n",
            "              <div id=\"collapseTwo\" class=\" collapse in\">\n",
            "                <div class=\"panel-body\">\n",
            "                  <div id=\"running_list\">\n",
            "                    <div id=\"running_list_placeholder\" class=\"row list_placeholder\">\n",
            "                      <div> There are no notebooks running. </div>\n",
            "                    </div>\n",
            "                  </div>\n",
            "                </div>\n",
            "              </div>\n",
            "            </div>\n",
            "          </div>\n",
            "        </div>\n",
            "        <div id=\"clusters\" class=\"tab-pane\">\n",
            "          Clusters tab is now provided by IPython parallel.\n",
            "          See '<a href=\"https://github.com/ipython/ipyparallel\">IPython parallel</a>' for installation details.\n",
            "        </div>\n",
            "      </div><!-- class:tab-content -->\n",
            "    </div><!-- id:tab_content -->\n",
            "  </div><!-- ipython-main-app  -->\n",
            "\n",
            "\n",
            "</div>\n",
            "\n",
            "\n",
            "\n",
            "\n",
            "\n",
            "    \n",
            "\n",
            "    <script src=\"/static/tree/js/main.min.js?v=09e540637c96e15ebcdffd48815a4cd059ddc9a31aa3a95220af4906ae48acbece4ea144aaa8702b0aa8aa466a412b3c8bf20e015bef2cd11b1054681c106f28\" type=\"text/javascript\" charset=\"utf-8\"></script>\n",
            "\n",
            "    <script type=\"text/javascript\">\n",
            "      $('#element').tooltip('enable')\n",
            "    </script>\n",
            "\n",
            "\n",
            "<script type='text/javascript'>\n",
            "  function _remove_token_from_url() {\n",
            "    if (window.location.search.length <= 1) {\n",
            "      return;\n",
            "    }\n",
            "    var search_parameters = window.location.search.slice(1).split('&');\n",
            "    for (var i = 0; i < search_parameters.length; i++) {\n",
            "      if (search_parameters[i].split('=')[0] === 'token') {\n",
            "        // remote token from search parameters\n",
            "        search_parameters.splice(i, 1);\n",
            "        var new_search = '';\n",
            "        if (search_parameters.length) {\n",
            "          new_search = '?' + search_parameters.join('&');\n",
            "        }\n",
            "        var new_url = window.location.origin + \n",
            "                      window.location.pathname + \n",
            "                      new_search + \n",
            "                      window.location.hash;\n",
            "        window.history.replaceState({}, \"\", new_url);\n",
            "        return;\n",
            "      }\n",
            "    }\n",
            "  }\n",
            "  _remove_token_from_url();\n",
            "  sys_info = {\"notebook_version\": \"6.5.7\", \"notebook_path\": \"/usr/local/lib/python3.11/dist-packages/notebook\", \"commit_source\": \"\", \"commit_hash\": \"\", \"sys_version\": \"3.11.12 (main, Apr  9 2025, 08:55:54) [GCC 11.4.0]\", \"sys_executable\": \"/usr/bin/python3\", \"sys_platform\": \"linux\", \"platform\": \"Linux-6.1.123+-x86_64-with-glibc2.35\", \"os_name\": \"posix\", \"default_encoding\": \"utf-8\"};\n",
            "  document.addEventListener('DOMContentLoaded', function () {\n",
            "    const newsId = document.querySelector('#newsId');\n",
            "    const dontShowId = document.querySelector('#dontShowId');\n",
            "    const showNotebookNews = localStorage.getItem('showNotebookNews');\n",
            "    dontShowId.addEventListener('click', () => {\n",
            "      localStorage.setItem('showNotebookNews', false);\n",
            "      newsId.style.display = 'none';\n",
            "    });\n",
            "    if (!showNotebookNews) newsId.style.display = 'inline';\n",
            "  });\n",
            "</script>\n",
            "</body>\n",
            "\n",
            "</html>\n"
          ]
        }
      ]
    },
    {
      "cell_type": "code",
      "source": [
        "def create_app(test_config=None):\n",
        "    \"Create and configure an instance of the Flask application.\"\n",
        "    app = Flask(__name__, instance_relative_config=True)\n",
        "    app.config.from_mapping(\n",
        "        # a default secret that should be overridden by instance config\n",
        "        SECRET_KEY=\"dev\"\n",
        "    )\n",
        "\n",
        "    if test_config is None:\n",
        "        # load the instance config, if it exists, when not testing\n",
        "        app.config.from_pyfile(\"config.py\", silent=True)\n",
        "    else:\n",
        "        # load the test config if passed in\n",
        "        app.config.update(test_config)\n",
        "\n",
        "    @app.route(\"/hello\")\n",
        "    def hello_colab():\n",
        "        return f\"Hello, Colab!\"\n",
        "\n",
        "    @app.route(\"/hello/<human_name>\")\n",
        "    def hello(human_name):\n",
        "        return f\"Hello, {human_name}!\"\n",
        "\n",
        "    app.add_url_rule(\"/\", endpoint=\"hello_colab\")\n",
        "\n",
        "    return app"
      ],
      "metadata": {
        "id": "L_X7vSv77TLc"
      },
      "execution_count": 33,
      "outputs": []
    },
    {
      "cell_type": "code",
      "source": [
        "assert not create_app().testing\n",
        "assert create_app({\"TESTING\": True}).testing"
      ],
      "metadata": {
        "id": "IT1Dh51bDuzM"
      },
      "execution_count": 34,
      "outputs": []
    },
    {
      "cell_type": "code",
      "source": [
        "app = create_app({\"TESTING\": True})\n",
        "client = app.test_client()\n",
        "response = client.get(\"/hello/Pieter van de Heuvel, MSc\")\n",
        "print(response.text)\n",
        "assert response.data == b\"Hello, Pieter van de Heuvel, MSc!\"\n",
        "response = client.get(\"/\")\n",
        "print(response.data)\n",
        "assert response.data == b\"Hello, Colab!\""
      ],
      "metadata": {
        "colab": {
          "base_uri": "https://localhost:8080/"
        },
        "id": "Ab4x4GiuDxRX",
        "outputId": "8c02468c-424e-4110-d608-59fb3e3c43d7"
      },
      "execution_count": 35,
      "outputs": [
        {
          "output_type": "stream",
          "name": "stdout",
          "text": [
            "Hello, Pieter van de Heuvel, MSc!\n",
            "b'Hello, Colab!'\n"
          ]
        }
      ]
    },
    {
      "cell_type": "code",
      "source": [],
      "metadata": {
        "id": "mbqxitzYDu4A"
      },
      "execution_count": null,
      "outputs": []
    },
    {
      "cell_type": "code",
      "source": [
        "from prometheus_client import CollectorRegistry, Gauge, push_to_gateway\n",
        "\n",
        "registry = CollectorRegistry()\n",
        "g = Gauge('model_training_loss', 'Loss value', registry=registry)\n",
        "g.set(0.123)\n",
        "\n",
        "# Push to external Prometheus push gateway (must be set up externally)\n",
        "push_to_gateway('YOUR_SERVER_IP:9091', job='colab-training', registry=registry)"
      ],
      "metadata": {
        "id": "bsGU2X4_3qQj"
      },
      "execution_count": null,
      "outputs": []
    },
    {
      "cell_type": "code",
      "source": [
        "from prometheus_client import CollectorRegistry, Gauge, push_to_gateway\n",
        "\n",
        "registry = CollectorRegistry()\n",
        "g = Gauge('model_training_loss', 'Loss value', registry=registry)\n",
        "g.set(0.123)\n",
        "\n",
        "# Push to external Prometheus push gateway (must be set up externally)\n",
        "push_to_gateway('YOUR_SERVER_IP:9091', job='colab-training', registry=registry)"
      ],
      "metadata": {
        "id": "LnEZx0za3gdC"
      },
      "execution_count": null,
      "outputs": []
    },
    {
      "cell_type": "code",
      "source": [
        "from google.colab import drive\n",
        "drive.mount('/content/drive')\n"
      ],
      "metadata": {
        "colab": {
          "base_uri": "https://localhost:8080/"
        },
        "id": "DoOiwl1FM6e3",
        "outputId": "7b52132e-ff8c-4b59-c545-a51919b54a1e"
      },
      "execution_count": 5,
      "outputs": [
        {
          "output_type": "stream",
          "name": "stdout",
          "text": [
            "Mounted at /content/drive\n"
          ]
        }
      ]
    },
    {
      "cell_type": "code",
      "source": [
        "%cd /content/drive/MyDrive/"
      ],
      "metadata": {
        "colab": {
          "base_uri": "https://localhost:8080/"
        },
        "id": "KbSggu2_PtHA",
        "outputId": "3b3857f1-9d55-4b7c-b183-2385fce7f37e"
      },
      "execution_count": 6,
      "outputs": [
        {
          "output_type": "stream",
          "name": "stdout",
          "text": [
            "/content/drive/MyDrive\n"
          ]
        }
      ]
    },
    {
      "cell_type": "code",
      "source": [
        "#MNIST/raw\n",
        "# 4 files\n",
        "#train-images-idx3-ubyte.gz: training set images (9912422 bytes)\n",
        "#train-labels-idx1-ubyte.gz: training set labels (28881 bytes)\n",
        "#t10k-images-idx3-ubyte.gz: test set images (1648877 bytes)\n",
        "#t10k-labels-idx1-ubyte.gz: test set labels (4542 bytes)\n",
        "\n",
        "#is the normalization centering?\n",
        "transform = transforms.Compose([transforms.ToTensor(), transforms.Normalize((0.1307,), (0.3081,))])\n",
        "train_dataset = torchvision.datasets.MNIST(root='.', train=True, download=False, transform=transform)\n",
        "test_dataset = torchvision.datasets.MNIST(root='.', train=False, download=False, transform=transform)\n"
      ],
      "metadata": {
        "id": "6Jje8hDRMotC"
      },
      "execution_count": 7,
      "outputs": []
    },
    {
      "cell_type": "code",
      "source": [
        "print(train_dataset)\n",
        "print(len(train_dataset))\n",
        "print(test_dataset)\n",
        "print(len(test_dataset))\n"
      ],
      "metadata": {
        "colab": {
          "base_uri": "https://localhost:8080/"
        },
        "id": "YaAvk4pETe2M",
        "outputId": "383b6eb7-6b89-49ff-c9c7-463d3bf154dc"
      },
      "execution_count": 9,
      "outputs": [
        {
          "output_type": "stream",
          "name": "stdout",
          "text": [
            "Dataset MNIST\n",
            "    Number of datapoints: 60000\n",
            "    Root location: .\n",
            "    Split: Train\n",
            "    StandardTransform\n",
            "Transform: Compose(\n",
            "               ToTensor()\n",
            "               Normalize(mean=(0.1307,), std=(0.3081,))\n",
            "           )\n",
            "60000\n",
            "Dataset MNIST\n",
            "    Number of datapoints: 10000\n",
            "    Root location: .\n",
            "    Split: Test\n",
            "    StandardTransform\n",
            "Transform: Compose(\n",
            "               ToTensor()\n",
            "               Normalize(mean=(0.1307,), std=(0.3081,))\n",
            "           )\n",
            "10000\n"
          ]
        }
      ]
    },
    {
      "cell_type": "code",
      "source": [
        "# Define the image classifier model\n",
        "class CNN(nn.Module):\n",
        "    def __init__(self):\n",
        "        super(CNN, self).__init__()\n",
        "        self.conv_layers = nn.Sequential(\n",
        "            nn.Conv2d(1, 32, kernel_size=3),\n",
        "            nn.ReLU(),\n",
        "            nn.Conv2d(32, 64, kernel_size=3),\n",
        "            nn.ReLU(),\n",
        "            nn.Conv2d(64, 64, kernel_size=3),\n",
        "            nn.ReLU()\n",
        "        )\n",
        "        self.fc_layers = nn.Sequential(\n",
        "            nn.Flatten(),\n",
        "            nn.Linear(64 * 22 * 22, 10)\n",
        "        )\n",
        "\n",
        "    def forward(self, x):\n",
        "        x = self.conv_layers(x)\n",
        "        x = self.fc_layers(x)\n",
        "        return x"
      ],
      "metadata": {
        "id": "kFmdBnlzTe4n"
      },
      "execution_count": null,
      "outputs": []
    },
    {
      "cell_type": "code",
      "source": [],
      "metadata": {
        "id": "0QKiTacoTe68"
      },
      "execution_count": null,
      "outputs": []
    },
    {
      "cell_type": "code",
      "source": [],
      "metadata": {
        "id": "XFoBsRNATe9L"
      },
      "execution_count": null,
      "outputs": []
    },
    {
      "cell_type": "code",
      "source": [],
      "metadata": {
        "id": "WqqgcZ3rTe_g"
      },
      "execution_count": null,
      "outputs": []
    },
    {
      "cell_type": "code",
      "source": [],
      "metadata": {
        "id": "uoB3pfdzTfB2"
      },
      "execution_count": null,
      "outputs": []
    }
  ]
}